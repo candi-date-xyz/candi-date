{
 "cells": [
  {
   "cell_type": "markdown",
   "metadata": {},
   "source": [
    "\n",
    " # \n",
    " https://analyticsindiamag.com/complete-guide-to-bidirectional-lstm-with-python-codes/\n",
    "\n",
    "ANN - artificial neural network\n",
    "CNN - \n",
    "\n",
    "\n",
    "RNN recurrent neural network\n",
    "* uses feedback loops\n",
    "* creates \"memory\"\n",
    "* independent variable becomes dependent in next layer\n",
    "* used for speech recognition, language modeling, image classification\n",
    "* standard RNN contains a single layer\n",
    "\n",
    "LSTM has more complex repeating structure\n",
    "* four layers\n",
    "    - Neural net\n",
    "    - Poitwise Operation\n",
    "    - Vector transformer\n",
    "    - Concatenate\n",
    "    - Copy\n",
    "\n",
    "* BI-LSTM\n",
    "    - sequence info in both dirs (future & past)\n",
    "    - input flows two directions.\n",
    "    \n",
    "\n",
    "\n",
    "\n"
   ]
  },
  {
   "cell_type": "code",
   "execution_count": 29,
   "metadata": {},
   "outputs": [
    {
     "name": "stdout",
     "output_type": "stream",
     "text": [
      "Defaulting to user installation because normal site-packages is not writeable\n",
      "Requirement already satisfied: tensorflow in /home/brianh/.local/lib/python3.10/site-packages (2.9.1)\n",
      "Requirement already satisfied: opt-einsum>=2.3.2 in /home/brianh/.local/lib/python3.10/site-packages (from tensorflow) (3.3.0)\n",
      "Requirement already satisfied: tensorflow-estimator<2.10.0,>=2.9.0rc0 in /home/brianh/.local/lib/python3.10/site-packages (from tensorflow) (2.9.0)\n",
      "Requirement already satisfied: tensorflow-io-gcs-filesystem>=0.23.1 in /home/brianh/.local/lib/python3.10/site-packages (from tensorflow) (0.26.0)\n",
      "Requirement already satisfied: protobuf<3.20,>=3.9.2 in /home/brianh/.local/lib/python3.10/site-packages (from tensorflow) (3.19.4)\n",
      "Requirement already satisfied: keras-preprocessing>=1.1.1 in /home/brianh/.local/lib/python3.10/site-packages (from tensorflow) (1.1.2)\n",
      "Requirement already satisfied: google-pasta>=0.1.1 in /home/brianh/.local/lib/python3.10/site-packages (from tensorflow) (0.2.0)\n",
      "Requirement already satisfied: gast<=0.4.0,>=0.2.1 in /home/brianh/.local/lib/python3.10/site-packages (from tensorflow) (0.4.0)\n",
      "Requirement already satisfied: termcolor>=1.1.0 in /home/brianh/.local/lib/python3.10/site-packages (from tensorflow) (1.1.0)\n",
      "Requirement already satisfied: setuptools in /usr/lib/python3/dist-packages (from tensorflow) (59.6.0)\n",
      "Requirement already satisfied: wrapt>=1.11.0 in /home/brianh/.local/lib/python3.10/site-packages (from tensorflow) (1.14.1)\n",
      "Requirement already satisfied: absl-py>=1.0.0 in /home/brianh/.local/lib/python3.10/site-packages (from tensorflow) (1.1.0)\n",
      "Requirement already satisfied: packaging in /usr/lib/python3/dist-packages (from tensorflow) (21.3)\n",
      "Requirement already satisfied: grpcio<2.0,>=1.24.3 in /home/brianh/.local/lib/python3.10/site-packages (from tensorflow) (1.46.3)\n",
      "Requirement already satisfied: libclang>=13.0.0 in /home/brianh/.local/lib/python3.10/site-packages (from tensorflow) (14.0.1)\n",
      "Requirement already satisfied: six>=1.12.0 in /usr/lib/python3/dist-packages (from tensorflow) (1.16.0)\n",
      "Requirement already satisfied: keras<2.10.0,>=2.9.0rc0 in /home/brianh/.local/lib/python3.10/site-packages (from tensorflow) (2.9.0)\n",
      "Requirement already satisfied: tensorboard<2.10,>=2.9 in /home/brianh/.local/lib/python3.10/site-packages (from tensorflow) (2.9.1)\n",
      "Requirement already satisfied: typing-extensions>=3.6.6 in /home/brianh/.local/lib/python3.10/site-packages (from tensorflow) (4.2.0)\n",
      "Requirement already satisfied: astunparse>=1.6.0 in /home/brianh/.local/lib/python3.10/site-packages (from tensorflow) (1.6.3)\n",
      "Requirement already satisfied: flatbuffers<2,>=1.12 in /home/brianh/.local/lib/python3.10/site-packages (from tensorflow) (1.12)\n",
      "Requirement already satisfied: h5py>=2.9.0 in /home/brianh/.local/lib/python3.10/site-packages (from tensorflow) (3.7.0)\n",
      "Requirement already satisfied: numpy>=1.20 in /home/brianh/.local/lib/python3.10/site-packages (from tensorflow) (1.22.4)\n",
      "Requirement already satisfied: wheel<1.0,>=0.23.0 in /usr/lib/python3/dist-packages (from astunparse>=1.6.0->tensorflow) (0.37.1)\n",
      "Requirement already satisfied: google-auth<3,>=1.6.3 in /home/brianh/.local/lib/python3.10/site-packages (from tensorboard<2.10,>=2.9->tensorflow) (2.7.0)\n",
      "Requirement already satisfied: google-auth-oauthlib<0.5,>=0.4.1 in /home/brianh/.local/lib/python3.10/site-packages (from tensorboard<2.10,>=2.9->tensorflow) (0.4.6)\n",
      "Requirement already satisfied: markdown>=2.6.8 in /usr/lib/python3/dist-packages (from tensorboard<2.10,>=2.9->tensorflow) (3.3.6)\n",
      "Requirement already satisfied: tensorboard-data-server<0.7.0,>=0.6.0 in /home/brianh/.local/lib/python3.10/site-packages (from tensorboard<2.10,>=2.9->tensorflow) (0.6.1)\n",
      "Requirement already satisfied: tensorboard-plugin-wit>=1.6.0 in /home/brianh/.local/lib/python3.10/site-packages (from tensorboard<2.10,>=2.9->tensorflow) (1.8.1)\n",
      "Requirement already satisfied: requests<3,>=2.21.0 in /usr/lib/python3/dist-packages (from tensorboard<2.10,>=2.9->tensorflow) (2.25.1)\n",
      "Requirement already satisfied: werkzeug>=1.0.1 in /home/brianh/.local/lib/python3.10/site-packages (from tensorboard<2.10,>=2.9->tensorflow) (2.1.2)\n",
      "Requirement already satisfied: rsa<5,>=3.1.4 in /home/brianh/.local/lib/python3.10/site-packages (from google-auth<3,>=1.6.3->tensorboard<2.10,>=2.9->tensorflow) (4.8)\n",
      "Requirement already satisfied: pyasn1-modules>=0.2.1 in /usr/lib/python3/dist-packages (from google-auth<3,>=1.6.3->tensorboard<2.10,>=2.9->tensorflow) (0.2.1)\n",
      "Requirement already satisfied: cachetools<6.0,>=2.0.0 in /home/brianh/.local/lib/python3.10/site-packages (from google-auth<3,>=1.6.3->tensorboard<2.10,>=2.9->tensorflow) (5.2.0)\n",
      "Requirement already satisfied: requests-oauthlib>=0.7.0 in /home/brianh/.local/lib/python3.10/site-packages (from google-auth-oauthlib<0.5,>=0.4.1->tensorboard<2.10,>=2.9->tensorflow) (1.3.1)\n",
      "Requirement already satisfied: oauthlib>=3.0.0 in /usr/lib/python3/dist-packages (from requests-oauthlib>=0.7.0->google-auth-oauthlib<0.5,>=0.4.1->tensorboard<2.10,>=2.9->tensorflow) (3.2.0)\n",
      "Requirement already satisfied: pyasn1>=0.1.3 in /usr/lib/python3/dist-packages (from rsa<5,>=3.1.4->google-auth<3,>=1.6.3->tensorboard<2.10,>=2.9->tensorflow) (0.4.8)\n",
      "Defaulting to user installation because normal site-packages is not writeable\n",
      "Requirement already satisfied: keras in /home/brianh/.local/lib/python3.10/site-packages (2.9.0)\n",
      "Defaulting to user installation because normal site-packages is not writeable\n",
      "Requirement already satisfied: keras.preprocessing in /home/brianh/.local/lib/python3.10/site-packages (1.1.2)\n",
      "Requirement already satisfied: numpy>=1.9.1 in /home/brianh/.local/lib/python3.10/site-packages (from keras.preprocessing) (1.22.4)\n",
      "Requirement already satisfied: six>=1.9.0 in /usr/lib/python3/dist-packages (from keras.preprocessing) (1.16.0)\n",
      "Defaulting to user installation because normal site-packages is not writeable\n",
      "Requirement already satisfied: keras.models in /home/brianh/.local/lib/python3.10/site-packages (0.0.7)\n",
      "Requirement already satisfied: Pillow in /home/brianh/.local/lib/python3.10/site-packages (from keras.models) (9.1.1)\n",
      "Requirement already satisfied: keras in /home/brianh/.local/lib/python3.10/site-packages (from keras.models) (2.9.0)\n",
      "Requirement already satisfied: opencv-python in /home/brianh/.local/lib/python3.10/site-packages (from keras.models) (4.5.5.64)\n",
      "Requirement already satisfied: spacy in /home/brianh/.local/lib/python3.10/site-packages (from keras.models) (3.3.1)\n",
      "Requirement already satisfied: pathlib in /home/brianh/.local/lib/python3.10/site-packages (from keras.models) (1.0.1)\n",
      "Requirement already satisfied: numpy in /home/brianh/.local/lib/python3.10/site-packages (from keras.models) (1.22.4)\n",
      "Requirement already satisfied: pydantic!=1.8,!=1.8.1,<1.9.0,>=1.7.4 in /home/brianh/.local/lib/python3.10/site-packages (from spacy->keras.models) (1.8.2)\n",
      "Requirement already satisfied: blis<0.8.0,>=0.4.0 in /home/brianh/.local/lib/python3.10/site-packages (from spacy->keras.models) (0.7.7)\n",
      "Requirement already satisfied: langcodes<4.0.0,>=3.2.0 in /home/brianh/.local/lib/python3.10/site-packages (from spacy->keras.models) (3.3.0)\n",
      "Requirement already satisfied: murmurhash<1.1.0,>=0.28.0 in /home/brianh/.local/lib/python3.10/site-packages (from spacy->keras.models) (1.0.7)\n",
      "Requirement already satisfied: spacy-loggers<2.0.0,>=1.0.0 in /home/brianh/.local/lib/python3.10/site-packages (from spacy->keras.models) (1.0.2)\n",
      "Requirement already satisfied: wasabi<1.1.0,>=0.9.1 in /home/brianh/.local/lib/python3.10/site-packages (from spacy->keras.models) (0.9.1)\n",
      "Requirement already satisfied: thinc<8.1.0,>=8.0.14 in /home/brianh/.local/lib/python3.10/site-packages (from spacy->keras.models) (8.0.17)\n",
      "Requirement already satisfied: requests<3.0.0,>=2.13.0 in /usr/lib/python3/dist-packages (from spacy->keras.models) (2.25.1)\n",
      "Requirement already satisfied: cymem<2.1.0,>=2.0.2 in /home/brianh/.local/lib/python3.10/site-packages (from spacy->keras.models) (2.0.6)\n",
      "Requirement already satisfied: spacy-legacy<3.1.0,>=3.0.9 in /home/brianh/.local/lib/python3.10/site-packages (from spacy->keras.models) (3.0.9)\n",
      "Requirement already satisfied: jinja2 in /usr/lib/python3/dist-packages (from spacy->keras.models) (3.0.3)\n",
      "Requirement already satisfied: packaging>=20.0 in /usr/lib/python3/dist-packages (from spacy->keras.models) (21.3)\n",
      "Requirement already satisfied: srsly<3.0.0,>=2.4.3 in /home/brianh/.local/lib/python3.10/site-packages (from spacy->keras.models) (2.4.3)\n",
      "Requirement already satisfied: setuptools in /usr/lib/python3/dist-packages (from spacy->keras.models) (59.6.0)\n",
      "Requirement already satisfied: pathy>=0.3.5 in /home/brianh/.local/lib/python3.10/site-packages (from spacy->keras.models) (0.6.1)\n",
      "Requirement already satisfied: catalogue<2.1.0,>=2.0.6 in /home/brianh/.local/lib/python3.10/site-packages (from spacy->keras.models) (2.0.7)\n",
      "Requirement already satisfied: tqdm<5.0.0,>=4.38.0 in /home/brianh/.local/lib/python3.10/site-packages (from spacy->keras.models) (4.64.0)\n",
      "Requirement already satisfied: preshed<3.1.0,>=3.0.2 in /home/brianh/.local/lib/python3.10/site-packages (from spacy->keras.models) (3.0.6)\n",
      "Requirement already satisfied: typer<0.5.0,>=0.3.0 in /home/brianh/.local/lib/python3.10/site-packages (from spacy->keras.models) (0.4.1)\n",
      "Requirement already satisfied: smart-open<6.0.0,>=5.0.0 in /home/brianh/.local/lib/python3.10/site-packages (from pathy>=0.3.5->spacy->keras.models) (5.2.1)\n",
      "Requirement already satisfied: typing-extensions>=3.7.4.3 in /home/brianh/.local/lib/python3.10/site-packages (from pydantic!=1.8,!=1.8.1,<1.9.0,>=1.7.4->spacy->keras.models) (4.2.0)\n",
      "Requirement already satisfied: click<9.0.0,>=7.1.1 in /usr/lib/python3/dist-packages (from typer<0.5.0,>=0.3.0->spacy->keras.models) (8.0.3)\n",
      "Defaulting to user installation because normal site-packages is not writeable\n",
      "\u001b[31mERROR: Could not find a version that satisfies the requirement keras.layers (from versions: none)\u001b[0m\u001b[31m\n",
      "\u001b[0m\u001b[31mERROR: No matching distribution found for keras.layers\u001b[0m\u001b[31m\n",
      "\u001b[0mDefaulting to user installation because normal site-packages is not writeable\n",
      "Requirement already satisfied: keras.datasets in /home/brianh/.local/lib/python3.10/site-packages (0.1.0)\n",
      "Defaulting to user installation because normal site-packages is not writeable\n",
      "Collecting keras.utils\n",
      "  Downloading keras-utils-1.0.13.tar.gz (2.4 kB)\n",
      "  Preparing metadata (setup.py) ... \u001b[?25ldone\n",
      "\u001b[?25hRequirement already satisfied: Keras>=2.1.5 in /home/brianh/.local/lib/python3.10/site-packages (from keras.utils) (2.9.0)\n",
      "Building wheels for collected packages: keras.utils\n",
      "  Building wheel for keras.utils (setup.py) ... \u001b[?25ldone\n",
      "\u001b[?25h  Created wheel for keras.utils: filename=keras_utils-1.0.13-py3-none-any.whl size=2656 sha256=60156838251a2a70637cb2bc8590b5a9c478107580393f722d4726abc0c6c17b\n",
      "  Stored in directory: /home/brianh/.cache/pip/wheels/5c/c0/b3/0c332de4fd71f3733ea6d61697464b7ae4b2b5ff0300e6ca7a\n",
      "Successfully built keras.utils\n",
      "Installing collected packages: keras.utils\n",
      "Successfully installed keras.utils-1.0.13\n"
     ]
    }
   ],
   "source": [
    "#!/bin/sh\n",
    "\n",
    "!pip3 install tensorflow\n",
    "\n",
    "# https://matplotlib.org/stable/users/installing/index.html\n",
    "!pip3 install matplotlib\n",
    "\n",
    "!pip3 install keras\n",
    "!pip3 install keras.preprocessing\n",
    "!pip3 install keras.models\n",
    "!pip3 install keras.layers \n",
    "!pip3 install keras.datasets\n",
    "!pip3 install keras.utils\n"
   ]
  },
  {
   "cell_type": "code",
   "execution_count": 32,
   "metadata": {},
   "outputs": [],
   "source": [
    "\n",
    " # https://analyticsindiamag.com/complete-guide-to-bidirectional-lstm-with-python-codes/\n",
    " \n",
    " import numpy as np\n",
    " from keras.preprocessing import sequence\n",
    " from keras.models import Sequential\n",
    " from keras.layers import Dense, Dropout, Embedding, LSTM, Bidirectional\n",
    " from keras.datasets import imdb \n",
    " from keras.utils.data_utils import pad_sequences\n",
    "\n",
    "\n",
    " "
   ]
  },
  {
   "cell_type": "code",
   "execution_count": 33,
   "metadata": {},
   "outputs": [],
   "source": [
    " n_unique_words = 10000 # cut texts after this number of words\n",
    " maxlen = 200\n",
    " batch_size = 128 \n",
    "\n",
    " "
   ]
  },
  {
   "cell_type": "code",
   "execution_count": 34,
   "metadata": {},
   "outputs": [],
   "source": [
    "(x_train, y_train),(x_test, y_test) = imdb.load_data(num_words=n_unique_words)"
   ]
  },
  {
   "cell_type": "markdown",
   "metadata": {},
   "source": [
    "convert data into matrices\n"
   ]
  },
  {
   "cell_type": "code",
   "execution_count": 37,
   "metadata": {},
   "outputs": [],
   "source": [
    " x_train = keras.utils.data_utils.pad_sequences(x_train, maxlen=maxlen)\n",
    " x_test = keras.utils.data_utils.pad_sequences(x_test, maxlen=maxlen)\n",
    " y_train = np.array(y_train)\n",
    " y_test = np.array(y_test) "
   ]
  },
  {
   "cell_type": "markdown",
   "metadata": {},
   "source": [
    "* conda install -c conda-forge cudatoolkit=11.2 cudnn=8.1.0\n",
    "* export LD_LIBRARY_PATH=$LD_LIBRARY_PATH:$CONDA_PREFIX/lib/\n",
    "* python3 -m pip install tensorflow\n",
    "\n",
    "python3 -c \"import tensorflow as tf; print(tf.config.list_physical_devices('GPU'))\""
   ]
  },
  {
   "cell_type": "markdown",
   "metadata": {},
   "source": [
    "wget https://developer.download.nvidia.com/compute/cuda/repos/wsl-ubuntu/x86_64/cuda-wsl-ubuntu.pin\n",
    "sudo mv cuda-wsl-ubuntu.pin /etc/apt/preferences.d/cuda-repository-pin-600\n",
    "sudo apt-key adv --fetch-keys https://developer.download.nvidia.com/compute/cuda/repos/wsl-ubuntu/x86_64/3bf863cc.pub\n",
    "sudo add-apt-repository \"deb https://developer.download.nvidia.com/compute/cuda/repos/wsl-ubuntu/x86_64/ /\"\n",
    "sudo apt-get update\n",
    "sudo apt-get -y install cuda"
   ]
  },
  {
   "cell_type": "markdown",
   "metadata": {},
   "source": [
    "create a bi-lstm\n",
    "\n"
   ]
  },
  {
   "cell_type": "code",
   "execution_count": 40,
   "metadata": {},
   "outputs": [],
   "source": [
    "\n",
    " model = Sequential()\n",
    " model.add(Embedding(n_unique_words, 128, input_length=maxlen))\n",
    " model.add(Bidirectional(LSTM(64)))\n",
    " model.add(Dropout(0.5))\n",
    " model.add(Dense(1, activation='sigmoid'))\n",
    " model.compile(loss='binary_crossentropy', optimizer='adam', metrics=['accuracy']) "
   ]
  },
  {
   "cell_type": "markdown",
   "metadata": {},
   "source": [
    "fit the model with data that we loaded"
   ]
  },
  {
   "cell_type": "code",
   "execution_count": 41,
   "metadata": {},
   "outputs": [
    {
     "name": "stdout",
     "output_type": "stream",
     "text": [
      "Epoch 1/12\n",
      "196/196 [==============================] - 129s 633ms/step - loss: 0.4789 - accuracy: 0.7570 - val_loss: 0.3159 - val_accuracy: 0.8666\n",
      "Epoch 2/12\n",
      "196/196 [==============================] - 124s 636ms/step - loss: 0.2473 - accuracy: 0.9047 - val_loss: 0.3220 - val_accuracy: 0.8710\n",
      "Epoch 3/12\n",
      "196/196 [==============================] - 162s 828ms/step - loss: 0.1858 - accuracy: 0.9334 - val_loss: 0.3554 - val_accuracy: 0.8663\n",
      "Epoch 4/12\n",
      "196/196 [==============================] - 152s 778ms/step - loss: 0.1367 - accuracy: 0.9521 - val_loss: 0.3912 - val_accuracy: 0.8635\n",
      "Epoch 5/12\n",
      "196/196 [==============================] - 154s 788ms/step - loss: 0.1063 - accuracy: 0.9639 - val_loss: 0.3932 - val_accuracy: 0.8574\n",
      "Epoch 6/12\n",
      "196/196 [==============================] - 174s 891ms/step - loss: 0.0939 - accuracy: 0.9677 - val_loss: 0.4324 - val_accuracy: 0.8559\n",
      "Epoch 7/12\n",
      "196/196 [==============================] - 180s 919ms/step - loss: 0.0916 - accuracy: 0.9692 - val_loss: 0.4440 - val_accuracy: 0.8541\n",
      "Epoch 8/12\n",
      "196/196 [==============================] - 165s 842ms/step - loss: 0.0633 - accuracy: 0.9792 - val_loss: 0.5421 - val_accuracy: 0.8434\n",
      "Epoch 9/12\n",
      "196/196 [==============================] - 153s 781ms/step - loss: 0.0488 - accuracy: 0.9850 - val_loss: 0.5677 - val_accuracy: 0.8473\n",
      "Epoch 10/12\n",
      "196/196 [==============================] - 144s 738ms/step - loss: 0.0434 - accuracy: 0.9864 - val_loss: 0.6773 - val_accuracy: 0.8539\n",
      "Epoch 11/12\n",
      "196/196 [==============================] - 129s 656ms/step - loss: 0.0516 - accuracy: 0.9817 - val_loss: 0.5790 - val_accuracy: 0.8535\n",
      "Epoch 12/12\n",
      "196/196 [==============================] - 124s 631ms/step - loss: 0.0362 - accuracy: 0.9896 - val_loss: 0.6458 - val_accuracy: 0.8312\n",
      "[0.4789074957370758, 0.2472827285528183, 0.18583106994628906, 0.13666650652885437, 0.10632037371397018, 0.09387798607349396, 0.09163457900285721, 0.06334238499403, 0.04882904887199402, 0.043383948504924774, 0.051626671105623245, 0.03616974502801895]\n",
      "[0.7569599747657776, 0.9047200083732605, 0.9333599805831909, 0.9521200060844421, 0.9638800024986267, 0.9676799774169922, 0.9692000150680542, 0.979200005531311, 0.985040009021759, 0.9864400029182434, 0.981719970703125, 0.9896000027656555]\n"
     ]
    }
   ],
   "source": [
    " history=model.fit(x_train, y_train,\n",
    "           batch_size=batch_size,\n",
    "           epochs=12,\n",
    "           validation_data=[x_test, y_test])\n",
    " print(history.history['loss'])\n",
    " print(history.history['accuracy']) "
   ]
  },
  {
   "cell_type": "markdown",
   "metadata": {},
   "source": [
    "measure bi-lstm performance\n",
    "\n",
    "this is good: accuracy line is near 1, loss line is near zero "
   ]
  },
  {
   "cell_type": "code",
   "execution_count": 42,
   "metadata": {},
   "outputs": [
    {
     "data": {
      "image/png": "[encoded data removed]",
      "text/plain": [
       "<Figure size 432x288 with 1 Axes>"
      ]
     },
     "metadata": {
      "needs_background": "light"
     },
     "output_type": "display_data"
    }
   ],
   "source": [
    " from matplotlib import pyplot\n",
    " pyplot.plot(history.history['loss'])\n",
    " pyplot.plot(history.history['accuracy'])\n",
    " pyplot.title('model loss vs accuracy')\n",
    " pyplot.xlabel('epoch')\n",
    " pyplot.legend(['loss', 'accuracy'], loc='upper right')\n",
    " pyplot.show() "
   ]
  }
 ],
 "metadata": {
  "kernelspec": {
   "display_name": "Python 3.10.4 64-bit",
   "language": "python",
   "name": "python3"
  },
  "language_info": {
   "codemirror_mode": {
    "name": "ipython",
    "version": 3
   },
   "file_extension": ".py",
   "mimetype": "text/x-python",
   "name": "python",
   "nbconvert_exporter": "python",
   "pygments_lexer": "ipython3",
   "version": "3.10.4"
  },
  "orig_nbformat": 4,
  "vscode": {
   "interpreter": {
    "hash": "916dbcbb3f70747c44a77c7bcd40155683ae19c65e1c03b4aa3499c5328201f1"
   }
  }
 },
 "nbformat": 4,
 "nbformat_minor": 2
}
